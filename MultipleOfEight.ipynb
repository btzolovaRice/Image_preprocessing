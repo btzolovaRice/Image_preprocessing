{
 "cells": [
  {
   "cell_type": "code",
   "execution_count": null,
   "id": "0ddfe640",
   "metadata": {},
   "outputs": [],
   "source": [
    "import nibabel as nib\n",
    "import numpy as np\n",
    "import math"
   ]
  },
  {
   "cell_type": "code",
   "execution_count": null,
   "id": "bbd9a006",
   "metadata": {},
   "outputs": [],
   "source": [
    "original_file = '/Users/bilyana/Documents/vessel_segmentation/ircad_data/patient_1/portalvein_1.nii'\n",
    "new_file = '/Users/bilyana/Documents/vessel_segmentation/ircad_data/patient_1/portalvein_1_new.nii'"
   ]
  },
  {
   "cell_type": "code",
   "execution_count": null,
   "id": "a996bc63",
   "metadata": {},
   "outputs": [],
   "source": [
    "## load image \n",
    "data = nib.load(original_file)\n",
    "\n",
    "## find dimension of image -- for me this is 512x512xZ where Z is the number of slices\n",
    "print(data.header.get_data_shape()) "
   ]
  },
  {
   "cell_type": "code",
   "execution_count": null,
   "id": "0e1f34e2",
   "metadata": {},
   "outputs": [],
   "source": [
    "## Define dim as the dimensions of the image \n",
    "dim = data.header.get_data_shape()\n",
    "\n",
    "# find the largest number smaller than Z that's a multiple of 8  \n",
    "mult8 = math.floor(dim[2]/8)*8\n",
    "\n",
    "## crop image without the last 0-7 slices\n",
    "cropped_img = data.slicer[:, :, 0:mult8]\n",
    "\n",
    "## Check the dimension of the image \n",
    "cropped_img.shape "
   ]
  },
  {
   "cell_type": "code",
   "execution_count": null,
   "id": "47d6552e",
   "metadata": {},
   "outputs": [],
   "source": [
    "## Save the image here \n",
    "cropped_img.to_filename(new_file)"
   ]
  },
  {
   "cell_type": "markdown",
   "id": "548a30ae",
   "metadata": {},
   "source": [
    "## Now using c3d run this in linux when orientation is off: \n",
    "\n",
    "c3d reference.nii target.nii -mbb -o out.nii \n",
    "\n",
    "Where reference.nii is the header you want, target.nii is the one that's flipped and out.nii is the new version\n"
   ]
  }
 ],
 "metadata": {
  "kernelspec": {
   "display_name": "tzoenv",
   "language": "python",
   "name": "tzoenv"
  },
  "language_info": {
   "codemirror_mode": {
    "name": "ipython",
    "version": 3
   },
   "file_extension": ".py",
   "mimetype": "text/x-python",
   "name": "python",
   "nbconvert_exporter": "python",
   "pygments_lexer": "ipython3",
   "version": "3.10.2"
  }
 },
 "nbformat": 4,
 "nbformat_minor": 5
}
